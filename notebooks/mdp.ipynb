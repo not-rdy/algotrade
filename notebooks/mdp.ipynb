{
 "cells": [
  {
   "cell_type": "code",
   "execution_count": 1,
   "metadata": {},
   "outputs": [],
   "source": [
    "import sys\n",
    "sys.path.append('/Users/rkam/projs/algotrade')\n",
    "import numpy as np\n",
    "import pandas as pd\n",
    "import scipy as sp\n",
    "import itertools\n",
    "from sklearn.neighbors import NearestNeighbors\n",
    "from typing import Set, Dict, Tuple, NewType\n",
    "from tqdm import tqdm\n",
    "from datetime import timedelta, datetime\n",
    "from src.dbmanager import DBManager\n",
    "from src.markov.agent import Agent\n",
    "from src.markov.environment import Environment"
   ]
  },
  {
   "cell_type": "code",
   "execution_count": 2,
   "metadata": {},
   "outputs": [],
   "source": [
    "dbob = DBManager(path='/Users/rkam/projs/algotrade/data/db/ob.db')\n",
    "dbtr = DBManager(path='/Users/rkam/projs/algotrade/data/db/tr.db')"
   ]
  },
  {
   "cell_type": "markdown",
   "metadata": {},
   "source": [
    "## Data"
   ]
  },
  {
   "cell_type": "code",
   "execution_count": 3,
   "metadata": {},
   "outputs": [],
   "source": [
    "ob = dbob.read(\n",
    "    \"\"\"\n",
    "    select\n",
    "        *\n",
    "    from\n",
    "        ob\n",
    "    \"\"\"\n",
    ")\n",
    "ob.columns = ['ts', 'bprice', 'bquantity', 'aprice', 'aquantity']\n",
    "ob['ts'] = pd.to_datetime(ob['ts']).dt.tz_localize(None)\n",
    "ob = ob.iloc[:500000]\n",
    "\n",
    "tr = dbtr.read(\n",
    "    \"\"\"\n",
    "    select\n",
    "        *\n",
    "    from\n",
    "        tr\n",
    "    \"\"\"\n",
    ")\n",
    "tr.columns = ['ts', 'direction', 'price', 'quantity']\n",
    "tr['ts'] = pd.to_datetime(tr['ts']).dt.tz_localize(None)"
   ]
  },
  {
   "cell_type": "markdown",
   "metadata": {},
   "source": [
    "## Формируем множества"
   ]
  },
  {
   "cell_type": "code",
   "execution_count": 4,
   "metadata": {},
   "outputs": [],
   "source": [
    "buy_actions = list(itertools.product(['buy'], np.arange(0.2, 0.5, 0.1), np.arange(0.01, 0.11, 0.01)))\n",
    "sell_actions = list(itertools.product(['sell'], np.arange(-0.5, -0.2, 0.1), np.arange(0.01, 0.11, 0.01)))\n",
    "actions = set(buy_actions + sell_actions)"
   ]
  },
  {
   "cell_type": "code",
   "execution_count": 5,
   "metadata": {},
   "outputs": [
    {
     "name": "stderr",
     "output_type": "stream",
     "text": [
      "100%|██████████| 9993/9993 [00:16<00:00, 599.07it/s]\n"
     ]
    }
   ],
   "source": [
    "ob_groupped = ob.groupby('ts', group_keys=True).apply(lambda df_: df_)\n",
    "\n",
    "depth_ob = 5\n",
    "last_trades = 5\n",
    "states = set()\n",
    "for ts in tqdm(ob['ts'].unique(), total=ob['ts'].nunique()):\n",
    "     \n",
    "    cols = ['direction', 'price', 'quantity']\n",
    "    trades = tr[tr['ts'] <= ts].iloc[-last_trades:]\n",
    "    trades[cols] = trades[cols].apply(lambda col: col / col.iloc[-1])\n",
    "    embd_tr = trades[cols].values.flatten()\n",
    "    if trades.shape[0] != last_trades:\n",
    "        continue\n",
    "    cols = ['bprice', 'bquantity', 'aprice', 'aquantity']\n",
    "    orderbook = ob_groupped.loc[ts].iloc[:depth_ob]\n",
    "    orderbook[cols] = orderbook[cols].apply(lambda col: col / col.max())\n",
    "    embd_ob = orderbook[cols].values.flatten()\n",
    "\n",
    "    state = tuple(np.concatenate([embd_ob, embd_tr]))\n",
    "    states.add(state)\n",
    "embd_length = pd.Series([len(x) for x in states]).value_counts().index[0]\n",
    "states = [x for x in states if len(x) == embd_length]"
   ]
  },
  {
   "cell_type": "code",
   "execution_count": 6,
   "metadata": {},
   "outputs": [],
   "source": [
    "rewards = np.arange(-2, 2.1, 0.1)"
   ]
  },
  {
   "cell_type": "code",
   "execution_count": 7,
   "metadata": {},
   "outputs": [
    {
     "name": "stdout",
     "output_type": "stream",
     "text": [
      "init counts...\n",
      "init probs...\n"
     ]
    }
   ],
   "source": [
    "agent = Agent(states=states, actions=actions, rewards=rewards, n_init_counts=10, eps=0.05)"
   ]
  },
  {
   "cell_type": "code",
   "execution_count": 8,
   "metadata": {},
   "outputs": [],
   "source": [
    "environment = Environment(depth_ob=depth_ob, last_trades=last_trades, trades=tr, orderbooks=ob, state_length=embd_length)"
   ]
  },
  {
   "cell_type": "code",
   "execution_count": null,
   "metadata": {},
   "outputs": [],
   "source": [
    "idx = np.random.choice(a=range(0, len(actions)))\n",
    "action = ('none', 0, 0)\n",
    "for ts in tqdm(ob['ts'].unique(), total=ob['ts'].nunique()):\n",
    "    # state reward\n",
    "    state_reward = environment.get_state_reward(ts, action, agent.agent_state)\n",
    "    if state_reward is None:\n",
    "        continue\n",
    "    else:\n",
    "        state, reward = state_reward\n",
    "    # action\n",
    "    action = agent.get_action(state, reward)\n",
    "    #print(f'Action: {action}, Reward: {reward}')"
   ]
  },
  {
   "cell_type": "code",
   "execution_count": 4,
   "metadata": {},
   "outputs": [
    {
     "data": {
      "text/plain": [
       "array([1.        , 0.99990009, 0.99980018, ..., 0.00119982, 0.00109991,\n",
       "       0.001     ])"
      ]
     },
     "execution_count": 4,
     "metadata": {},
     "output_type": "execute_result"
    }
   ],
   "source": [
    "import numpy as np\n",
    "np.linspace(1, 0.001, 10000)"
   ]
  },
  {
   "cell_type": "code",
   "execution_count": 5,
   "metadata": {},
   "outputs": [
    {
     "data": {
      "text/plain": [
       "array([0.01, 0.02])"
      ]
     },
     "execution_count": 5,
     "metadata": {},
     "output_type": "execute_result"
    }
   ],
   "source": [
    "np.arange(0.01, 0.03, 0.01)"
   ]
  }
 ],
 "metadata": {
  "kernelspec": {
   "display_name": "moex",
   "language": "python",
   "name": "python3"
  },
  "language_info": {
   "codemirror_mode": {
    "name": "ipython",
    "version": 3
   },
   "file_extension": ".py",
   "mimetype": "text/x-python",
   "name": "python",
   "nbconvert_exporter": "python",
   "pygments_lexer": "ipython3",
   "version": "3.10.13"
  }
 },
 "nbformat": 4,
 "nbformat_minor": 2
}
