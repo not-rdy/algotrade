{
 "cells": [
  {
   "cell_type": "code",
   "execution_count": 24,
   "metadata": {},
   "outputs": [],
   "source": [
    "import sys\n",
    "sys.path.append('/Users/rkam/projs/algotrade')\n",
    "import numpy as np\n",
    "import pandas as pd\n",
    "import scipy as sp\n",
    "import itertools\n",
    "from sklearn.neighbors import NearestNeighbors\n",
    "from typing import Set, Dict, Tuple, NewType\n",
    "from tqdm import tqdm\n",
    "from datetime import timedelta, datetime\n",
    "from src.dbmanager import DBManager"
   ]
  },
  {
   "cell_type": "code",
   "execution_count": 33,
   "metadata": {},
   "outputs": [],
   "source": [
    "buy_actions = list(itertools.product(['buy'], np.arange(0.2, 0.5, 0.1), np.arange(0.01, 0.11, 0.01)))\n",
    "sell_actions = list(itertools.product(['sell'], np.arange(-0.5, -0.2, 0.1), np.arange(0.01, 0.11, 0.01)))\n",
    "actions = set(buy_actions + sell_actions)"
   ]
  },
  {
   "cell_type": "code",
   "execution_count": 26,
   "metadata": {},
   "outputs": [],
   "source": [
    "dbob = DBManager(path='/Users/rkam/projs/algotrade/data/db/ob.db')\n",
    "dbtr = DBManager(path='/Users/rkam/projs/algotrade/data/db/tr.db')"
   ]
  },
  {
   "cell_type": "markdown",
   "metadata": {},
   "source": [
    "## Data"
   ]
  },
  {
   "cell_type": "code",
   "execution_count": 27,
   "metadata": {},
   "outputs": [],
   "source": [
    "ob = dbob.read(\n",
    "    \"\"\"\n",
    "    select\n",
    "        *\n",
    "    from\n",
    "        ob\n",
    "    \"\"\"\n",
    ")\n",
    "ob.columns = ['ts', 'bprice', 'bquantity', 'aprice', 'aquantity']\n",
    "ob['ts'] = pd.to_datetime(ob['ts']).dt.tz_localize(None)\n",
    "ob = ob.iloc[:1000000]\n",
    "\n",
    "tr = dbtr.read(\n",
    "    \"\"\"\n",
    "    select\n",
    "        *\n",
    "    from\n",
    "        tr\n",
    "    \"\"\"\n",
    ")\n",
    "tr.columns = ['ts', 'direction', 'price', 'quantity']\n",
    "tr['ts'] = pd.to_datetime(tr['ts']).dt.tz_localize(None)"
   ]
  },
  {
   "cell_type": "code",
   "execution_count": 5,
   "metadata": {},
   "outputs": [
    {
     "data": {
      "text/html": [
       "<div>\n",
       "<style scoped>\n",
       "    .dataframe tbody tr th:only-of-type {\n",
       "        vertical-align: middle;\n",
       "    }\n",
       "\n",
       "    .dataframe tbody tr th {\n",
       "        vertical-align: top;\n",
       "    }\n",
       "\n",
       "    .dataframe thead th {\n",
       "        text-align: right;\n",
       "    }\n",
       "</style>\n",
       "<table border=\"1\" class=\"dataframe\">\n",
       "  <thead>\n",
       "    <tr style=\"text-align: right;\">\n",
       "      <th></th>\n",
       "      <th>ts</th>\n",
       "      <th>bprice</th>\n",
       "      <th>bquantity</th>\n",
       "      <th>aprice</th>\n",
       "      <th>aquantity</th>\n",
       "    </tr>\n",
       "  </thead>\n",
       "  <tbody>\n",
       "    <tr>\n",
       "      <th>0</th>\n",
       "      <td>2024-05-22 12:11:23.338882</td>\n",
       "      <td>322.30</td>\n",
       "      <td>478</td>\n",
       "      <td>322.31</td>\n",
       "      <td>911</td>\n",
       "    </tr>\n",
       "    <tr>\n",
       "      <th>1</th>\n",
       "      <td>2024-05-22 12:11:23.338882</td>\n",
       "      <td>322.29</td>\n",
       "      <td>372</td>\n",
       "      <td>322.33</td>\n",
       "      <td>124</td>\n",
       "    </tr>\n",
       "    <tr>\n",
       "      <th>2</th>\n",
       "      <td>2024-05-22 12:11:23.338882</td>\n",
       "      <td>322.28</td>\n",
       "      <td>1</td>\n",
       "      <td>322.34</td>\n",
       "      <td>10</td>\n",
       "    </tr>\n",
       "    <tr>\n",
       "      <th>3</th>\n",
       "      <td>2024-05-22 12:11:23.338882</td>\n",
       "      <td>322.27</td>\n",
       "      <td>45</td>\n",
       "      <td>322.35</td>\n",
       "      <td>1392</td>\n",
       "    </tr>\n",
       "    <tr>\n",
       "      <th>4</th>\n",
       "      <td>2024-05-22 12:11:23.338882</td>\n",
       "      <td>322.26</td>\n",
       "      <td>45</td>\n",
       "      <td>322.36</td>\n",
       "      <td>24</td>\n",
       "    </tr>\n",
       "  </tbody>\n",
       "</table>\n",
       "</div>"
      ],
      "text/plain": [
       "                          ts  bprice  bquantity  aprice  aquantity\n",
       "0 2024-05-22 12:11:23.338882  322.30        478  322.31        911\n",
       "1 2024-05-22 12:11:23.338882  322.29        372  322.33        124\n",
       "2 2024-05-22 12:11:23.338882  322.28          1  322.34         10\n",
       "3 2024-05-22 12:11:23.338882  322.27         45  322.35       1392\n",
       "4 2024-05-22 12:11:23.338882  322.26         45  322.36         24"
      ]
     },
     "execution_count": 5,
     "metadata": {},
     "output_type": "execute_result"
    }
   ],
   "source": [
    "ob.head()"
   ]
  },
  {
   "cell_type": "code",
   "execution_count": 6,
   "metadata": {},
   "outputs": [
    {
     "data": {
      "text/html": [
       "<div>\n",
       "<style scoped>\n",
       "    .dataframe tbody tr th:only-of-type {\n",
       "        vertical-align: middle;\n",
       "    }\n",
       "\n",
       "    .dataframe tbody tr th {\n",
       "        vertical-align: top;\n",
       "    }\n",
       "\n",
       "    .dataframe thead th {\n",
       "        text-align: right;\n",
       "    }\n",
       "</style>\n",
       "<table border=\"1\" class=\"dataframe\">\n",
       "  <thead>\n",
       "    <tr style=\"text-align: right;\">\n",
       "      <th></th>\n",
       "      <th>ts</th>\n",
       "      <th>direction</th>\n",
       "      <th>price</th>\n",
       "      <th>quantity</th>\n",
       "    </tr>\n",
       "  </thead>\n",
       "  <tbody>\n",
       "    <tr>\n",
       "      <th>0</th>\n",
       "      <td>2024-05-22 12:11:34.797401</td>\n",
       "      <td>2</td>\n",
       "      <td>322.30</td>\n",
       "      <td>100</td>\n",
       "    </tr>\n",
       "    <tr>\n",
       "      <th>1</th>\n",
       "      <td>2024-05-22 12:11:35.281418</td>\n",
       "      <td>1</td>\n",
       "      <td>322.31</td>\n",
       "      <td>1</td>\n",
       "    </tr>\n",
       "    <tr>\n",
       "      <th>2</th>\n",
       "      <td>2024-05-22 12:11:35.281418</td>\n",
       "      <td>1</td>\n",
       "      <td>322.31</td>\n",
       "      <td>2</td>\n",
       "    </tr>\n",
       "    <tr>\n",
       "      <th>3</th>\n",
       "      <td>2024-05-22 12:11:35.496058</td>\n",
       "      <td>2</td>\n",
       "      <td>322.30</td>\n",
       "      <td>51</td>\n",
       "    </tr>\n",
       "    <tr>\n",
       "      <th>4</th>\n",
       "      <td>2024-05-22 12:11:35.496058</td>\n",
       "      <td>2</td>\n",
       "      <td>322.30</td>\n",
       "      <td>2</td>\n",
       "    </tr>\n",
       "  </tbody>\n",
       "</table>\n",
       "</div>"
      ],
      "text/plain": [
       "                          ts  direction   price  quantity\n",
       "0 2024-05-22 12:11:34.797401          2  322.30       100\n",
       "1 2024-05-22 12:11:35.281418          1  322.31         1\n",
       "2 2024-05-22 12:11:35.281418          1  322.31         2\n",
       "3 2024-05-22 12:11:35.496058          2  322.30        51\n",
       "4 2024-05-22 12:11:35.496058          2  322.30         2"
      ]
     },
     "execution_count": 6,
     "metadata": {},
     "output_type": "execute_result"
    }
   ],
   "source": [
    "tr.head()"
   ]
  },
  {
   "cell_type": "markdown",
   "metadata": {},
   "source": [
    "## Формируем множества"
   ]
  },
  {
   "cell_type": "code",
   "execution_count": 7,
   "metadata": {},
   "outputs": [
    {
     "name": "stderr",
     "output_type": "stream",
     "text": [
      "100%|██████████| 20008/20008 [00:55<00:00, 362.63it/s]\n"
     ]
    }
   ],
   "source": [
    "depth_ob = 5\n",
    "last_trades = 5\n",
    "states = set()\n",
    "for ts in tqdm(ob['ts'].unique(), total=ob['ts'].nunique()):\n",
    "     \n",
    "    cols = ['direction', 'price', 'quantity']\n",
    "    trades = tr[tr['ts'] <= ts].iloc[-last_trades:]\n",
    "    trades[cols] = trades[cols].apply(lambda col: col / col.iloc[-1])\n",
    "    embd_tr = trades[cols].values.flatten()\n",
    "    if trades.shape[0] != last_trades:\n",
    "        continue\n",
    "    cols = ['bprice', 'bquantity', 'aprice', 'aquantity']\n",
    "    orderbook = ob[ob['ts'] == ts].iloc[:depth_ob]\n",
    "    orderbook[cols] = orderbook[cols].apply(lambda col: col / col.max())\n",
    "    embd_ob = orderbook[cols].values.flatten()\n",
    "\n",
    "    state = tuple(np.concatenate([embd_ob, embd_tr]))\n",
    "    states.add(state)"
   ]
  },
  {
   "cell_type": "code",
   "execution_count": 21,
   "metadata": {},
   "outputs": [],
   "source": [
    "embd_length = pd.Series([len(x) for x in states]).value_counts().index[0]\n",
    "states = [x for x in states if len(x) == embd_length]"
   ]
  },
  {
   "cell_type": "code",
   "execution_count": 23,
   "metadata": {},
   "outputs": [],
   "source": [
    "nbrs = NearestNeighbors(n_neighbors=1, algorithm='ball_tree')\\\n",
    "    .fit(list(states))\n"
   ]
  },
  {
   "cell_type": "code",
   "execution_count": 36,
   "metadata": {},
   "outputs": [
    {
     "name": "stdout",
     "output_type": "stream",
     "text": [
      "(1.0, 0.24833702882483372, 0.9998759612999255, 0.15267175572519084, 0.9999689855162361, 0.2682926829268293, 0.9999069709749441, 1.0, 0.9999069565487082, 0.03325942350332594, 0.9999379806499626, 0.03435114503816794, 0.9998759420649442, 0.17960088691796008, 0.9999689903249814, 0.1267175572519084, 0.9998449275811804, 1.0, 1.0, 0.6450381679389313, 0.5, 0.9999689855162361, 1.4, 0.5, 0.9999689855162361, 58.6, 1.0, 0.9999379710324722, 0.8, 0.5, 1.0, 10.0, 1.0, 1.0, 1.0)\n"
     ]
    }
   ],
   "source": [
    "states = list(states)\n",
    "for _ in range(0, len(states)):\n",
    "    state = states[0]\n",
    "    try:\n",
    "        nbrs = NearestNeighbors(n_neighbors=1, algorithm='ball_tree')\\\n",
    "            .fit(np.array(list(states)))\n",
    "        print(state)\n",
    "        break\n",
    "    except ValueError:\n",
    "        states.remove(state)\n"
   ]
  }
 ],
 "metadata": {
  "kernelspec": {
   "display_name": "moex",
   "language": "python",
   "name": "python3"
  },
  "language_info": {
   "codemirror_mode": {
    "name": "ipython",
    "version": 3
   },
   "file_extension": ".py",
   "mimetype": "text/x-python",
   "name": "python",
   "nbconvert_exporter": "python",
   "pygments_lexer": "ipython3",
   "version": "3.10.14"
  }
 },
 "nbformat": 4,
 "nbformat_minor": 2
}
